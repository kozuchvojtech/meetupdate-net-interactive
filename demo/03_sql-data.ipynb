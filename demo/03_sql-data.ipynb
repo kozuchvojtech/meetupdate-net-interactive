{
 "cells": [
  {
   "attachments": {},
   "cell_type": "markdown",
   "metadata": {},
   "source": [
    "## Demo #3: SQL Data Processing Capabilities"
   ]
  },
  {
   "attachments": {},
   "cell_type": "markdown",
   "metadata": {},
   "source": [
    "### 1. Install necessary dependencies"
   ]
  },
  {
   "cell_type": "code",
   "execution_count": null,
   "metadata": {
    "dotnet_interactive": {
     "language": "csharp"
    },
    "polyglot_notebook": {
     "kernelName": "csharp"
    }
   },
   "outputs": [],
   "source": [
    "#r \"nuget:Microsoft.SqlToolsService,*-*\""
   ]
  },
  {
   "cell_type": "code",
   "execution_count": null,
   "metadata": {
    "dotnet_interactive": {
     "language": "csharp"
    },
    "polyglot_notebook": {
     "kernelName": "csharp"
    }
   },
   "outputs": [],
   "source": [
    "#r \"nuget:Microsoft.DotNet.Interactive.SqlServer,*-*\""
   ]
  },
  {
   "attachments": {},
   "cell_type": "markdown",
   "metadata": {},
   "source": [
    "### 2. Connect to the Azure SQL database"
   ]
  },
  {
   "cell_type": "code",
   "execution_count": null,
   "metadata": {
    "dotnet_interactive": {
     "language": "csharp"
    },
    "polyglot_notebook": {
     "kernelName": "csharp"
    }
   },
   "outputs": [],
   "source": [
    "#!connect mssql --kernel-name AdventureWorks \"Persist Security Info=False; Integrated Security=true; Initial Catalog=meetupdate-2023; User ID=vojtechkozuch;Password=a@fq@gQkVuDZE4o!N4UC8Dwz; Trusted_Connection=false; Server=interactive-data.database.windows.net\" --create-dbcontext"
   ]
  },
  {
   "attachments": {},
   "cell_type": "markdown",
   "metadata": {},
   "source": [
    "### 3. Fetch city addresses based on user input"
   ]
  },
  {
   "cell_type": "code",
   "execution_count": null,
   "metadata": {
    "dotnet_interactive": {
     "language": "csharp"
    },
    "polyglot_notebook": {
     "kernelName": "csharp"
    }
   },
   "outputs": [],
   "source": [
    "var city = await GetInputAsync(\"Enter city name: \");"
   ]
  },
  {
   "attachments": {},
   "cell_type": "markdown",
   "metadata": {},
   "source": [
    "#### Option no. 1: Query the data directly using SQL"
   ]
  },
  {
   "cell_type": "code",
   "execution_count": null,
   "metadata": {
    "dotnet_interactive": {
     "language": "sql-AdventureWorks"
    },
    "polyglot_notebook": {
     "kernelName": "sql-AdventureWorks"
    }
   },
   "outputs": [],
   "source": [
    "#!sql-AdventureWorks --name cityQueryResults\n",
    "#!set --value @csharp:city --name city\n",
    "\n",
    "SELECT AddressLine1, City, PostalCode \n",
    "FROM SalesLT.Address\n",
    "WHERE City = @city;"
   ]
  },
  {
   "attachments": {},
   "cell_type": "markdown",
   "metadata": {},
   "source": [
    "#### Option no. 2: Consume provided DB context in C#"
   ]
  },
  {
   "cell_type": "code",
   "execution_count": null,
   "metadata": {
    "dotnet_interactive": {
     "language": "csharp"
    },
    "polyglot_notebook": {
     "kernelName": "csharp"
    }
   },
   "outputs": [],
   "source": [
    "class AddressDto \n",
    "{\n",
    "    public string AddressLine1 { get; set; }\n",
    "    public string City { get; set; }\n",
    "    public string PostalCode { get; set; }\n",
    "}\n",
    "\n",
    "var cityAddresses = await AdventureWorks.Addresses\n",
    "                                        .Where(a => a.City == city)\n",
    "                                        .Select(a => new AddressDto\n",
    "                                        {\n",
    "                                            AddressLine1 = a.AddressLine1,\n",
    "                                            City = a.City,\n",
    "                                            PostalCode = a.PostalCode\n",
    "                                        })\n",
    "                                        .ToListAsync();\n",
    "\n",
    "cityAddresses"
   ]
  },
  {
   "attachments": {},
   "cell_type": "markdown",
   "metadata": {},
   "source": [
    "#### Appropriate data visualization in HTML table"
   ]
  },
  {
   "cell_type": "code",
   "execution_count": null,
   "metadata": {
    "dotnet_interactive": {
     "language": "html"
    },
    "polyglot_notebook": {
     "kernelName": "html"
    }
   },
   "outputs": [],
   "source": [
    "<html lang=\"en\">\n",
    "<head>\n",
    "    <meta charset=\"UTF-8\">\n",
    "    <meta name=\"viewport\" content=\"width=device-width, initial-scale=1.0\">\n",
    "    <title>Address Table</title>\n",
    "    <style>\n",
    "        table {\n",
    "            width: 100%;\n",
    "            border-collapse: collapse;\n",
    "            margin: 20px 0;\n",
    "        }\n",
    "        \n",
    "        th, td {\n",
    "            border: 1px solid #ccc;\n",
    "            padding: 10px;\n",
    "            text-align: left;\n",
    "        }\n",
    "\n",
    "        th {\n",
    "            background-color: #f2f2f2;\n",
    "            font-weight: bold;\n",
    "        }\n",
    "\n",
    "        tr:nth-child(even) {\n",
    "            background-color: #f2f2f2;\n",
    "        }\n",
    "    </style>\n",
    "</head>\n",
    "<body>\n",
    "    <table id=\"addressTable\">\n",
    "        <thead>\n",
    "            <tr>\n",
    "                <th>AddressLine1</th>\n",
    "                <th>City</th>\n",
    "                <th>PostalCode</th>\n",
    "            </tr>\n",
    "        </thead>\n",
    "        <tbody>\n",
    "        </tbody>\n",
    "        </tbody>\n",
    "    </table>\n",
    "</body>"
   ]
  },
  {
   "cell_type": "code",
   "execution_count": null,
   "metadata": {
    "dotnet_interactive": {
     "language": "javascript"
    },
    "polyglot_notebook": {
     "kernelName": "javascript"
    }
   },
   "outputs": [],
   "source": [
    "// #!share --from csharp cityAddresses\n",
    "#!share --from sql-AdventureWorks cityQueryResults\n",
    "\n",
    "function populateTable(data) {\n",
    "    const tableBody = document.getElementById('addressTable').getElementsByTagName('tbody')[0];\n",
    "\n",
    "    data.forEach((item) => {\n",
    "        const newRow = tableBody.insertRow();\n",
    "\n",
    "        const addressLine1Cell = newRow.insertCell(0);\n",
    "        addressLine1Cell.textContent = item.AddressLine1;\n",
    "\n",
    "        const cityCell = newRow.insertCell(1);\n",
    "        cityCell.textContent = item.City;\n",
    "\n",
    "        const postalCodeCell = newRow.insertCell(2);\n",
    "        postalCodeCell.textContent = item.PostalCode;\n",
    "    });\n",
    "}\n",
    "\n",
    "// Populate the table with address data\n",
    "//populateTable(cityAddresses);\n",
    "populateTable(cityQueryResults[0].data);"
   ]
  },
  {
   "attachments": {},
   "cell_type": "markdown",
   "metadata": {},
   "source": [
    "### 4. Query all addresses, group them by city and visualize"
   ]
  },
  {
   "cell_type": "code",
   "execution_count": null,
   "metadata": {
    "dotnet_interactive": {
     "language": "sql-AdventureWorks"
    },
    "polyglot_notebook": {
     "kernelName": "sql-AdventureWorks"
    }
   },
   "outputs": [],
   "source": [
    "#!sql-AdventureWorks --name groupedCitiesQueryResults\n",
    "\n",
    "SELECT City, COUNT(*) AS AddressesCount \n",
    "FROM SalesLT.Address \n",
    "GROUP BY City \n",
    "HAVING COUNT(*) > 10"
   ]
  },
  {
   "attachments": {},
   "cell_type": "markdown",
   "metadata": {},
   "source": [
    "#### Load Plotly.js using RequireJS"
   ]
  },
  {
   "cell_type": "code",
   "execution_count": null,
   "metadata": {
    "dotnet_interactive": {
     "language": "javascript"
    },
    "polyglot_notebook": {
     "kernelName": "javascript"
    }
   },
   "outputs": [],
   "source": [
    "plotlyloader = (require.config({\n",
    "    paths: {\n",
    "        d3: 'https://cdn.jsdelivr.net/npm/d3@7.4.4/dist/d3.min',\n",
    "        jquery: 'https://cdn.jsdelivr.net/npm/jquery@3.6.0/dist/jquery.min',\n",
    "        plotly: 'https://cdn.plot.ly/plotly-2.14.0.min'\n",
    "    },\n",
    "\n",
    "    shim: {\n",
    "        plotly: {\n",
    "            deps: ['d3', 'jquery'],\n",
    "            exports: 'plotly'\n",
    "        }\n",
    "    }\n",
    "}) || require);"
   ]
  },
  {
   "attachments": {},
   "cell_type": "markdown",
   "metadata": {},
   "source": [
    "#### Prepare HTML layout"
   ]
  },
  {
   "cell_type": "code",
   "execution_count": null,
   "metadata": {
    "dotnet_interactive": {
     "language": "html"
    },
    "polyglot_notebook": {
     "kernelName": "html"
    }
   },
   "outputs": [],
   "source": [
    "<div id='cities-pie-chart' style='height:400px'></div>"
   ]
  },
  {
   "attachments": {},
   "cell_type": "markdown",
   "metadata": {},
   "source": [
    "#### Populate obtained SQL data from JavaScript"
   ]
  },
  {
   "cell_type": "code",
   "execution_count": null,
   "metadata": {
    "dotnet_interactive": {
     "language": "javascript"
    },
    "polyglot_notebook": {
     "kernelName": "javascript"
    }
   },
   "outputs": [],
   "source": [
    "#!share --from sql-AdventureWorks groupedCitiesQueryResults\n",
    "\n",
    "plotlyloader(['d3', 'plotly'], function (d3, plotly) {\n",
    "    var trace1 = {\n",
    "        labels: groupedCitiesQueryResults[0].data.map(d => d.City),\n",
    "        values: groupedCitiesQueryResults[0].data.map(d => d.AddressesCount),\n",
    "        type: 'pie',\n",
    "        marker: {\n",
    "            colors: ['rgb(177, 127, 38)', 'rgb(124, 103, 37)', 'rgb(99, 79, 37)', 'rgb(129, 180, 179)']\n",
    "        }\n",
    "      };\n",
    "          \n",
    "      var data = [trace1];\n",
    "      plotly.newPlot('cities-pie-chart', data);\n",
    "  });"
   ]
  }
 ],
 "metadata": {
  "kernelspec": {
   "display_name": ".NET (C#)",
   "language": "C#",
   "name": ".net-csharp"
  },
  "language_info": {
   "name": "polyglot-notebook"
  },
  "orig_nbformat": 4,
  "polyglot_notebook": {
   "kernelInfo": {
    "defaultKernelName": "csharp",
    "items": [
     {
      "aliases": [],
      "name": "csharp"
     },
     {
      "aliases": [],
      "languageName": "T-SQL",
      "name": "sql-adventureWorks"
     },
     {
      "aliases": [],
      "languageName": "T-SQL",
      "name": "sql-AdventureWorks"
     }
    ]
   }
  }
 },
 "nbformat": 4,
 "nbformat_minor": 2
}
