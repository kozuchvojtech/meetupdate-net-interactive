{
 "cells": [
  {
   "attachments": {},
   "cell_type": "markdown",
   "metadata": {},
   "source": [
    "## Demo #2: OpenAI API Integration"
   ]
  },
  {
   "attachments": {},
   "cell_type": "markdown",
   "metadata": {},
   "source": [
    "### 1. Install needed SDK"
   ]
  },
  {
   "cell_type": "code",
   "execution_count": null,
   "metadata": {
    "dotnet_interactive": {
     "language": "csharp"
    },
    "polyglot_notebook": {
     "kernelName": "csharp"
    },
    "vscode": {
     "languageId": "polyglot-notebook"
    }
   },
   "outputs": [],
   "source": [
    "#r \"nuget:Betalgo.OpenAI.GPT3,*-*\""
   ]
  },
  {
   "attachments": {},
   "cell_type": "markdown",
   "metadata": {},
   "source": [
    "#### Credentials can be passed securely using `--value @password`"
   ]
  },
  {
   "cell_type": "code",
   "execution_count": null,
   "metadata": {
    "dotnet_interactive": {
     "language": "csharp"
    },
    "polyglot_notebook": {
     "kernelName": "csharp"
    },
    "vscode": {
     "languageId": "polyglot-notebook"
    }
   },
   "outputs": [],
   "source": [
    "#!set --name openAiApiKey --value @password:openai-api-key"
   ]
  },
  {
   "attachments": {},
   "cell_type": "markdown",
   "metadata": {},
   "source": [
    "### 2. Initialize OpenAI connector via the SDK installed\n",
    "\n",
    "API key is passed from the user input"
   ]
  },
  {
   "cell_type": "code",
   "execution_count": null,
   "metadata": {
    "dotnet_interactive": {
     "language": "csharp"
    },
    "polyglot_notebook": {
     "kernelName": "csharp"
    },
    "vscode": {
     "languageId": "polyglot-notebook"
    }
   },
   "outputs": [],
   "source": [
    "using OpenAI.GPT3;\n",
    "using OpenAI.GPT3.Managers;\n",
    "\n",
    "var openAiService = new OpenAIService(new OpenAiOptions()\n",
    "{\n",
    "    ApiKey = openAiApiKey\n",
    "});"
   ]
  },
  {
   "attachments": {},
   "cell_type": "markdown",
   "metadata": {},
   "source": [
    "### 3. Make the red ball start bouncing around!\n",
    "\n",
    "Below is the HTML layout"
   ]
  },
  {
   "cell_type": "code",
   "execution_count": null,
   "metadata": {
    "dotnet_interactive": {
     "language": "html"
    },
    "polyglot_notebook": {
     "kernelName": "html"
    },
    "vscode": {
     "languageId": "polyglot-notebook"
    }
   },
   "outputs": [],
   "source": [
    "<html>\n",
    "  <head>\n",
    "    <title>Bouncing Ball</title>\n",
    "  </head>\n",
    "  <body>\n",
    "    <canvas id=\"myCanvas\" width=\"400\" height=\"300\"></canvas>\n",
    "    \n",
    "    <script>\n",
    "      const canvas = document.getElementById('myCanvas');\n",
    "      const context = canvas.getContext('2d');\n",
    "      const centerX = canvas.width / 2;\n",
    "      const centerY = canvas.height / 2;\n",
    "      const radius = 40;\n",
    "\n",
    "      context.beginPath();\n",
    "      context.arc(centerX, centerY, radius, 0, 2 * Math.PI, false);\n",
    "      context.fillStyle = 'red';\n",
    "      context.fill();\n",
    "    </script> \n",
    "</body>\n",
    "</html>"
   ]
  },
  {
   "attachments": {},
   "cell_type": "markdown",
   "metadata": {},
   "source": [
    "#### Collect necessary input"
   ]
  },
  {
   "cell_type": "code",
   "execution_count": null,
   "metadata": {
    "dotnet_interactive": {
     "language": "csharp"
    },
    "polyglot_notebook": {
     "kernelName": "csharp"
    },
    "vscode": {
     "languageId": "polyglot-notebook"
    }
   },
   "outputs": [],
   "source": [
    "#!set --name gpt3prompt --value @input:\"Ask OpenAI something ...\""
   ]
  },
  {
   "cell_type": "code",
   "execution_count": null,
   "metadata": {
    "dotnet_interactive": {
     "language": "csharp"
    },
    "polyglot_notebook": {
     "kernelName": "csharp"
    },
    "vscode": {
     "languageId": "polyglot-notebook"
    }
   },
   "outputs": [],
   "source": [
    "#!value --from-file index.html --name html"
   ]
  },
  {
   "cell_type": "code",
   "execution_count": null,
   "metadata": {
    "dotnet_interactive": {
     "language": "csharp"
    },
    "polyglot_notebook": {
     "kernelName": "csharp"
    },
    "vscode": {
     "languageId": "polyglot-notebook"
    }
   },
   "outputs": [],
   "source": [
    "#!share html --from value"
   ]
  },
  {
   "attachments": {},
   "cell_type": "markdown",
   "metadata": {},
   "source": [
    "#### OpenAI API Prompt to get the JavaScript\n",
    "\n"
   ]
  },
  {
   "cell_type": "code",
   "execution_count": null,
   "metadata": {
    "dotnet_interactive": {
     "language": "csharp"
    },
    "polyglot_notebook": {
     "kernelName": "csharp"
    },
    "vscode": {
     "languageId": "polyglot-notebook"
    }
   },
   "outputs": [],
   "source": [
    "using OpenAI.GPT3.ObjectModels;\n",
    "using OpenAI.GPT3.ObjectModels.RequestModels;\n",
    "using System.IO;\n",
    "\n",
    "var completionResult = await openAiService.CreateCompletion(new CompletionCreateRequest()\n",
    "{\n",
    "    Prompt = gpt3prompt + html,\n",
    "    Model = Models.TextDavinciV3,\n",
    "    MaxTokens = 1024\n",
    "});\n",
    "\n",
    "var bouncingJavaScript = \"\";\n",
    "\n",
    "if (completionResult.Successful)\n",
    "{\n",
    "    bouncingJavaScript = completionResult.Choices.First().Text.Trim();\n",
    "}\n",
    "else if (completionResult.Error != null)\n",
    "{\n",
    "    Console.WriteLine($\"{completionResult.Error.Code}: {completionResult.Error.Message}\");\n",
    "}"
   ]
  },
  {
   "cell_type": "code",
   "execution_count": null,
   "metadata": {
    "dotnet_interactive": {
     "language": "csharp"
    },
    "polyglot_notebook": {
     "kernelName": "csharp"
    },
    "vscode": {
     "languageId": "polyglot-notebook"
    }
   },
   "outputs": [],
   "source": [
    "bouncingJavaScript"
   ]
  },
  {
   "cell_type": "code",
   "execution_count": null,
   "metadata": {
    "dotnet_interactive": {
     "language": "javascript"
    },
    "polyglot_notebook": {
     "kernelName": "javascript"
    },
    "vscode": {
     "languageId": "polyglot-notebook"
    }
   },
   "outputs": [],
   "source": [
    "// <insert JavaScript>\n",
    "let x = 0; \n",
    "let y = 0;\n",
    "let velocityX = 5;\n",
    "let velocityY = 5;\n",
    "\n",
    "function move(){\n",
    "    context.clearRect(0, 0, canvas.width, canvas.height);\n",
    "    x += velocityX; \n",
    "    y += velocityY; \n",
    "\n",
    "    if (y + radius > canvas.height || y - radius < 0) { \n",
    "        velocityY = -velocityY; \n",
    "    }\n",
    "    if (x + radius > canvas.width || x - radius < 0) {\n",
    "        velocityX = -velocityX; \n",
    "    }\n",
    "    context.beginPath(); \n",
    "    context.arc(x, y, radius, 0, 2*Math.PI, false);\n",
    "    context.fillStyle = 'red';\n",
    "    context.fill();\n",
    "    requestAnimationFrame(move); \n",
    "}\n",
    "\n",
    "move();"
   ]
  }
 ],
 "metadata": {
  "kernelspec": {
   "display_name": ".NET (C#)",
   "language": "C#",
   "name": ".net-csharp"
  },
  "language_info": {
   "name": "csharp"
  },
  "orig_nbformat": 4,
  "polyglot_notebook": {
   "kernelInfo": {
    "defaultKernelName": "csharp",
    "items": [
     {
      "aliases": [],
      "name": "csharp"
     }
    ]
   }
  }
 },
 "nbformat": 4,
 "nbformat_minor": 2
}
